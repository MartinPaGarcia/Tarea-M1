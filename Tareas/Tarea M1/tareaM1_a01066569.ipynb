{
 "cells": [
  {
   "cell_type": "code",
   "execution_count": 2,
   "metadata": {},
   "outputs": [
    {
     "name": "stdout",
     "output_type": "stream",
     "text": [
      "Requirement already satisfied: mesa in c:\\programdata\\anaconda3\\lib\\site-packages (0.8.9)\n",
      "Requirement already satisfied: tqdm in c:\\programdata\\anaconda3\\lib\\site-packages (from mesa) (4.59.0)\n",
      "Requirement already satisfied: cookiecutter in c:\\programdata\\anaconda3\\lib\\site-packages (from mesa) (1.7.3)\n",
      "Requirement already satisfied: click in c:\\programdata\\anaconda3\\lib\\site-packages (from mesa) (7.1.2)\n",
      "Requirement already satisfied: networkx in c:\\programdata\\anaconda3\\lib\\site-packages (from mesa) (2.5)\n",
      "Requirement already satisfied: numpy in c:\\programdata\\anaconda3\\lib\\site-packages (from mesa) (1.20.1)\n",
      "Requirement already satisfied: tornado in c:\\programdata\\anaconda3\\lib\\site-packages (from mesa) (6.1)\n",
      "Requirement already satisfied: pandas in c:\\programdata\\anaconda3\\lib\\site-packages (from mesa) (1.2.4)\n",
      "Requirement already satisfied: binaryornot>=0.4.4 in c:\\programdata\\anaconda3\\lib\\site-packages (from cookiecutter->mesa) (0.4.4)\n",
      "Requirement already satisfied: python-slugify>=4.0.0 in c:\\programdata\\anaconda3\\lib\\site-packages (from cookiecutter->mesa) (5.0.2)\n",
      "Requirement already satisfied: six>=1.10 in c:\\programdata\\anaconda3\\lib\\site-packages (from cookiecutter->mesa) (1.15.0)\n",
      "Requirement already satisfied: jinja2-time>=0.2.0 in c:\\programdata\\anaconda3\\lib\\site-packages (from cookiecutter->mesa) (0.2.0)\n",
      "Requirement already satisfied: poyo>=0.5.0 in c:\\programdata\\anaconda3\\lib\\site-packages (from cookiecutter->mesa) (0.5.0)\n",
      "Requirement already satisfied: requests>=2.23.0 in c:\\programdata\\anaconda3\\lib\\site-packages (from cookiecutter->mesa) (2.25.1)\n",
      "Requirement already satisfied: Jinja2<4.0.0,>=2.7 in c:\\programdata\\anaconda3\\lib\\site-packages (from cookiecutter->mesa) (2.11.3)\n",
      "Requirement already satisfied: chardet>=3.0.2 in c:\\programdata\\anaconda3\\lib\\site-packages (from binaryornot>=0.4.4->cookiecutter->mesa) (4.0.0)\n",
      "Requirement already satisfied: MarkupSafe>=0.23 in c:\\programdata\\anaconda3\\lib\\site-packages (from Jinja2<4.0.0,>=2.7->cookiecutter->mesa) (1.1.1)\n",
      "Requirement already satisfied: arrow in c:\\programdata\\anaconda3\\lib\\site-packages (from jinja2-time>=0.2.0->cookiecutter->mesa) (1.2.1)\n",
      "Requirement already satisfied: text-unidecode>=1.3 in c:\\programdata\\anaconda3\\lib\\site-packages (from python-slugify>=4.0.0->cookiecutter->mesa) (1.3)\n",
      "Requirement already satisfied: certifi>=2017.4.17 in c:\\programdata\\anaconda3\\lib\\site-packages (from requests>=2.23.0->cookiecutter->mesa) (2020.12.5)\n",
      "Requirement already satisfied: urllib3<1.27,>=1.21.1 in c:\\programdata\\anaconda3\\lib\\site-packages (from requests>=2.23.0->cookiecutter->mesa) (1.26.4)\n",
      "Requirement already satisfied: idna<3,>=2.5 in c:\\programdata\\anaconda3\\lib\\site-packages (from requests>=2.23.0->cookiecutter->mesa) (2.10)\n",
      "Requirement already satisfied: python-dateutil>=2.7.0 in c:\\programdata\\anaconda3\\lib\\site-packages (from arrow->jinja2-time>=0.2.0->cookiecutter->mesa) (2.8.1)\n",
      "Requirement already satisfied: decorator>=4.3.0 in c:\\programdata\\anaconda3\\lib\\site-packages (from networkx->mesa) (5.0.6)\n",
      "Requirement already satisfied: pytz>=2017.3 in c:\\programdata\\anaconda3\\lib\\site-packages (from pandas->mesa) (2021.1)\n"
     ]
    }
   ],
   "source": [
    "!pip install mesa\n",
    "from mesa import Agent, Model \n",
    "from mesa.space import MultiGrid\n",
    "from mesa.time import SimultaneousActivation\n",
    "from mesa.datacollection import DataCollector\n",
    "%matplotlib inline\n",
    "import matplotlib\n",
    "import matplotlib.pyplot as plt\n",
    "import matplotlib.animation as animation\n",
    "plt.rcParams[\"animation.html\"] = \"jshtml\"\n",
    "matplotlib.rcParams['animation.embed_limit'] = 2**128\n",
    "import numpy as np\n",
    "import pandas as pd\n",
    "import time\n",
    "import datetime\n",
    "import random"
   ]
  },
  {
   "cell_type": "code",
   "execution_count": 4,
   "metadata": {},
   "outputs": [],
   "source": [
    "def get_grid(model):\n",
    "    '''\n",
    "    Esta es una función auxiliar que nos permite guardar el grid para cada uno de los agentes.\n",
    "    param model: El modelo del cual optener el grid.\n",
    "    return una matriz con la información del grid del agente.\n",
    "    '''\n",
    "    grid = np.zeros((model.grid.width, model.grid.height))\n",
    "    for cell in model.grid.coord_iter():\n",
    "        cell_content, x, y = cell\n",
    "        for obj in cell_content:\n",
    "          if isinstance(cell_content, RobotLimpieza):\n",
    "            grid[x][x] = 2\n",
    "          elif isinstance(cell_content, Celda):\n",
    "            grid[x][y] = obj.estado\n",
    "    return grid\n",
    "\n",
    "class RobotLimpieza(Agent):\n",
    "  '''\n",
    "  En esta secicón se define la maquina de estados que está basada en el diagrama\n",
    "  que fue elaborado en el software yED, en el cual se define el comportamiento\n",
    "  del agente mediante una secuencia de condiciones simples.\n",
    "  '''\n",
    "  def __init__(self, unique_id, model):\n",
    "    super().__init__(unique_id,model)\n",
    "    self.sig_pos = None\n",
    "  \n",
    "  def step(self):\n",
    "    vecinos = self.model.grid.get_neighbors(\n",
    "            self.pos,\n",
    "            moore=True,\n",
    "            include_center=True)\n",
    "    \n",
    "    #Maquina de estados\n",
    "    for vecino in vecinos:\n",
    "      if isinstance(vecino, Celda) and self.pos == vecino.pos:\n",
    "        if vecino.estado == 1:\n",
    "        #Limpieza \n",
    "          vecino.sig_estado = 0\n",
    "          self.sig_pos = self.pos\n",
    "        else:\n",
    "          vecinos_2 = self.model.grid.get_neighbors(\n",
    "            self.pos,\n",
    "            moore=True,\n",
    "            include_center=False)\n",
    "          vecino.sig_estado = 0\n",
    "          self.sig_pos = self.random.choice(vecinos_2)\n",
    "        break\n",
    "\n",
    "    def advance(self):\n",
    "      vecinos  = self.model.grid.get_neighbors(\n",
    "            self.pos,\n",
    "            moore=True,\n",
    "            include_center=True)\n",
    "      for vecino in vecinos:\n",
    "        if isinstance(vecino, Celda) and self.pos == vecino.pos:\n",
    "          vecino.estado = vecino.sig_estado\n",
    "      self.model.grid.move_agent(self, self.sig_pos)\n",
    "\n",
    "\n",
    "\n",
    "class Celda(Agent):\n",
    "  '''\n",
    "  Aqio se definen los estados de las celdas\n",
    "  '''\n",
    "  #1 = Sucio\n",
    "  #0 = Limpio\n",
    "  def __init__(self, unique_id, model,estado):\n",
    "    super().__init__(unique_id, model)\n",
    "    self.pos = unique_id\n",
    "    self.estado = estado\n",
    "    self.sig_estado = None\n",
    "\n",
    "class Habitacion(Model): \n",
    "  '''\n",
    "  Aqui se define y se realiza la asignacion de celdas sucias y limpias en el \n",
    "  grid que en este caso es m*n lo cual nos da el tamaño total\n",
    "  '''\n",
    "  def __init__(self, m, n, num_agentes, por_celdas_sucias):\n",
    "    self.num_agentes = num_agentes\n",
    "    self.por_celdas_sucias = por_celdas_sucias\n",
    "    self.por_celdas_limpias = 1 - por_celdas_sucias\n",
    "    self.grid = MultiGrid(m, n, False)\n",
    "    self.schedule = SimultaneousActivation(self)\n",
    "    \n",
    "    #Asignacion de celdas limpias y sucias\n",
    "    num_celdas_sucias = int (m*n * por_celdas_sucias)\n",
    "    for (content, x, y) in self.grid.coord_iter():\n",
    "      num = random.randint(0,1)\n",
    "\n",
    "      if num ==1 and num_celdas_sucias >0:\n",
    "        a = Celda((x,y), self,1)\n",
    "        num_celdas_sucias -=1\n",
    "      else:\n",
    "        a = Celda((x,y), self, 0)\n",
    "      self.grid.place_agent(a, (x, y))\n",
    "      self.schedule.add(a)\n",
    "      \n",
    "      #Asignacion de agentes \n",
    "      \n",
    "    for id in range (num_agentes):\n",
    "      r = RobotLimpieza(id, self)\n",
    "      self.grid.place_agent(r, (1, 1))\n",
    "      self.schedule.add(r)\n",
    "\n",
    "    self.datacollector = DataCollector(\n",
    "        model_reporters= {\"Grid\": get_grid})\n",
    "      \n",
    "    def step(self):\n",
    "      self.datacollector.collect(self)\n",
    "      self.schedule.step()\n",
    "\n",
    "\n",
    "\n"
   ]
  },
  {
   "cell_type": "code",
   "execution_count": 6,
   "metadata": {},
   "outputs": [
    {
     "name": "stdout",
     "output_type": "stream",
     "text": [
      "Tiempo de ejecución: 0:00:00.500113\n"
     ]
    }
   ],
   "source": [
    "#Variables de tamaño de grid\n",
    "m = 15\n",
    "n =10\n",
    "#Numero de agentes y el porcentaje de celdas sucias\n",
    "num_agentes = 5\n",
    "por_celdas_sucias = 0.6\n",
    "#Tiempo máximo\n",
    "tiempo_maximo = 0.5\n",
    "\n",
    "model =Habitacion(m, n, num_agentes, por_celdas_sucias)\n",
    "start_time = time.time()\n",
    "while ((time.time() - start_time)<tiempo_maximo):\n",
    "  model.step()\n",
    "print('Tiempo de ejecución:', str(datetime.timedelta(seconds=(time.time() - start_time))))"
   ]
  },
  {
   "cell_type": "markdown",
   "metadata": {},
   "source": [
    "# Seccion 3\n",
    "Creacion del grid "
   ]
  },
  {
   "cell_type": "code",
   "execution_count": 7,
   "metadata": {},
   "outputs": [],
   "source": [
    "all_grid = model.datacollector.get_model_vars_dataframe()"
   ]
  },
  {
   "cell_type": "markdown",
   "metadata": {},
   "source": [
    "# Seccion 4\n",
    "\n",
    "Por alguna razón el código no quiere hacer el caputure porque marca un out of bounds, traté de resolver ese problema, pero no pude encontrar el error"
   ]
  },
  {
   "cell_type": "code",
   "execution_count": 8,
   "metadata": {},
   "outputs": [
    {
     "ename": "IndexError",
     "evalue": "single positional indexer is out-of-bounds",
     "output_type": "error",
     "traceback": [
      "\u001b[1;31m---------------------------------------------------------------------------\u001b[0m",
      "\u001b[1;31mIndexError\u001b[0m                                Traceback (most recent call last)",
      "\u001b[1;32m<ipython-input-8-7f542ecb5a35>\u001b[0m in \u001b[0;36m<module>\u001b[1;34m\u001b[0m\n\u001b[0;32m      2\u001b[0m \u001b[0maxs\u001b[0m\u001b[1;33m.\u001b[0m\u001b[0mset_xticks\u001b[0m\u001b[1;33m(\u001b[0m\u001b[1;33m[\u001b[0m\u001b[1;33m]\u001b[0m\u001b[1;33m)\u001b[0m\u001b[1;33m\u001b[0m\u001b[1;33m\u001b[0m\u001b[0m\n\u001b[0;32m      3\u001b[0m \u001b[0maxs\u001b[0m\u001b[1;33m.\u001b[0m\u001b[0mset_yticks\u001b[0m\u001b[1;33m(\u001b[0m\u001b[1;33m[\u001b[0m\u001b[1;33m]\u001b[0m\u001b[1;33m)\u001b[0m\u001b[1;33m\u001b[0m\u001b[1;33m\u001b[0m\u001b[0m\n\u001b[1;32m----> 4\u001b[1;33m \u001b[0mpatch\u001b[0m \u001b[1;33m=\u001b[0m \u001b[0mplt\u001b[0m\u001b[1;33m.\u001b[0m\u001b[0mimshow\u001b[0m\u001b[1;33m(\u001b[0m\u001b[0mall_grid\u001b[0m\u001b[1;33m.\u001b[0m\u001b[0miloc\u001b[0m\u001b[1;33m[\u001b[0m\u001b[1;36m0\u001b[0m\u001b[1;33m]\u001b[0m\u001b[1;33m[\u001b[0m\u001b[1;36m0\u001b[0m\u001b[1;33m]\u001b[0m\u001b[1;33m,\u001b[0m \u001b[0mcmap\u001b[0m\u001b[1;33m=\u001b[0m\u001b[0mplt\u001b[0m\u001b[1;33m.\u001b[0m\u001b[0mcm\u001b[0m\u001b[1;33m.\u001b[0m\u001b[0mbinary\u001b[0m\u001b[1;33m)\u001b[0m\u001b[1;33m\u001b[0m\u001b[1;33m\u001b[0m\u001b[0m\n\u001b[0m\u001b[0;32m      5\u001b[0m \u001b[1;32mdef\u001b[0m \u001b[0manimate\u001b[0m\u001b[1;33m(\u001b[0m\u001b[0mi\u001b[0m\u001b[1;33m)\u001b[0m\u001b[1;33m:\u001b[0m\u001b[1;33m\u001b[0m\u001b[1;33m\u001b[0m\u001b[0m\n\u001b[0;32m      6\u001b[0m   \u001b[0mpatch\u001b[0m\u001b[1;33m.\u001b[0m\u001b[0mset_data\u001b[0m\u001b[1;33m(\u001b[0m\u001b[0mall_grid\u001b[0m\u001b[1;33m.\u001b[0m\u001b[0miloc\u001b[0m\u001b[1;33m[\u001b[0m\u001b[0mi\u001b[0m\u001b[1;33m]\u001b[0m\u001b[1;33m[\u001b[0m\u001b[1;36m0\u001b[0m\u001b[1;33m]\u001b[0m\u001b[1;33m)\u001b[0m\u001b[1;33m\u001b[0m\u001b[1;33m\u001b[0m\u001b[0m\n",
      "\u001b[1;32mC:\\ProgramData\\Anaconda3\\lib\\site-packages\\pandas\\core\\indexing.py\u001b[0m in \u001b[0;36m__getitem__\u001b[1;34m(self, key)\u001b[0m\n\u001b[0;32m    893\u001b[0m \u001b[1;33m\u001b[0m\u001b[0m\n\u001b[0;32m    894\u001b[0m             \u001b[0mmaybe_callable\u001b[0m \u001b[1;33m=\u001b[0m \u001b[0mcom\u001b[0m\u001b[1;33m.\u001b[0m\u001b[0mapply_if_callable\u001b[0m\u001b[1;33m(\u001b[0m\u001b[0mkey\u001b[0m\u001b[1;33m,\u001b[0m \u001b[0mself\u001b[0m\u001b[1;33m.\u001b[0m\u001b[0mobj\u001b[0m\u001b[1;33m)\u001b[0m\u001b[1;33m\u001b[0m\u001b[1;33m\u001b[0m\u001b[0m\n\u001b[1;32m--> 895\u001b[1;33m             \u001b[1;32mreturn\u001b[0m \u001b[0mself\u001b[0m\u001b[1;33m.\u001b[0m\u001b[0m_getitem_axis\u001b[0m\u001b[1;33m(\u001b[0m\u001b[0mmaybe_callable\u001b[0m\u001b[1;33m,\u001b[0m \u001b[0maxis\u001b[0m\u001b[1;33m=\u001b[0m\u001b[0maxis\u001b[0m\u001b[1;33m)\u001b[0m\u001b[1;33m\u001b[0m\u001b[1;33m\u001b[0m\u001b[0m\n\u001b[0m\u001b[0;32m    896\u001b[0m \u001b[1;33m\u001b[0m\u001b[0m\n\u001b[0;32m    897\u001b[0m     \u001b[1;32mdef\u001b[0m \u001b[0m_is_scalar_access\u001b[0m\u001b[1;33m(\u001b[0m\u001b[0mself\u001b[0m\u001b[1;33m,\u001b[0m \u001b[0mkey\u001b[0m\u001b[1;33m:\u001b[0m \u001b[0mTuple\u001b[0m\u001b[1;33m)\u001b[0m\u001b[1;33m:\u001b[0m\u001b[1;33m\u001b[0m\u001b[1;33m\u001b[0m\u001b[0m\n",
      "\u001b[1;32mC:\\ProgramData\\Anaconda3\\lib\\site-packages\\pandas\\core\\indexing.py\u001b[0m in \u001b[0;36m_getitem_axis\u001b[1;34m(self, key, axis)\u001b[0m\n\u001b[0;32m   1499\u001b[0m \u001b[1;33m\u001b[0m\u001b[0m\n\u001b[0;32m   1500\u001b[0m             \u001b[1;31m# validate the location\u001b[0m\u001b[1;33m\u001b[0m\u001b[1;33m\u001b[0m\u001b[1;33m\u001b[0m\u001b[0m\n\u001b[1;32m-> 1501\u001b[1;33m             \u001b[0mself\u001b[0m\u001b[1;33m.\u001b[0m\u001b[0m_validate_integer\u001b[0m\u001b[1;33m(\u001b[0m\u001b[0mkey\u001b[0m\u001b[1;33m,\u001b[0m \u001b[0maxis\u001b[0m\u001b[1;33m)\u001b[0m\u001b[1;33m\u001b[0m\u001b[1;33m\u001b[0m\u001b[0m\n\u001b[0m\u001b[0;32m   1502\u001b[0m \u001b[1;33m\u001b[0m\u001b[0m\n\u001b[0;32m   1503\u001b[0m             \u001b[1;32mreturn\u001b[0m \u001b[0mself\u001b[0m\u001b[1;33m.\u001b[0m\u001b[0mobj\u001b[0m\u001b[1;33m.\u001b[0m\u001b[0m_ixs\u001b[0m\u001b[1;33m(\u001b[0m\u001b[0mkey\u001b[0m\u001b[1;33m,\u001b[0m \u001b[0maxis\u001b[0m\u001b[1;33m=\u001b[0m\u001b[0maxis\u001b[0m\u001b[1;33m)\u001b[0m\u001b[1;33m\u001b[0m\u001b[1;33m\u001b[0m\u001b[0m\n",
      "\u001b[1;32mC:\\ProgramData\\Anaconda3\\lib\\site-packages\\pandas\\core\\indexing.py\u001b[0m in \u001b[0;36m_validate_integer\u001b[1;34m(self, key, axis)\u001b[0m\n\u001b[0;32m   1442\u001b[0m         \u001b[0mlen_axis\u001b[0m \u001b[1;33m=\u001b[0m \u001b[0mlen\u001b[0m\u001b[1;33m(\u001b[0m\u001b[0mself\u001b[0m\u001b[1;33m.\u001b[0m\u001b[0mobj\u001b[0m\u001b[1;33m.\u001b[0m\u001b[0m_get_axis\u001b[0m\u001b[1;33m(\u001b[0m\u001b[0maxis\u001b[0m\u001b[1;33m)\u001b[0m\u001b[1;33m)\u001b[0m\u001b[1;33m\u001b[0m\u001b[1;33m\u001b[0m\u001b[0m\n\u001b[0;32m   1443\u001b[0m         \u001b[1;32mif\u001b[0m \u001b[0mkey\u001b[0m \u001b[1;33m>=\u001b[0m \u001b[0mlen_axis\u001b[0m \u001b[1;32mor\u001b[0m \u001b[0mkey\u001b[0m \u001b[1;33m<\u001b[0m \u001b[1;33m-\u001b[0m\u001b[0mlen_axis\u001b[0m\u001b[1;33m:\u001b[0m\u001b[1;33m\u001b[0m\u001b[1;33m\u001b[0m\u001b[0m\n\u001b[1;32m-> 1444\u001b[1;33m             \u001b[1;32mraise\u001b[0m \u001b[0mIndexError\u001b[0m\u001b[1;33m(\u001b[0m\u001b[1;34m\"single positional indexer is out-of-bounds\"\u001b[0m\u001b[1;33m)\u001b[0m\u001b[1;33m\u001b[0m\u001b[1;33m\u001b[0m\u001b[0m\n\u001b[0m\u001b[0;32m   1445\u001b[0m \u001b[1;33m\u001b[0m\u001b[0m\n\u001b[0;32m   1446\u001b[0m     \u001b[1;31m# -------------------------------------------------------------------\u001b[0m\u001b[1;33m\u001b[0m\u001b[1;33m\u001b[0m\u001b[1;33m\u001b[0m\u001b[0m\n",
      "\u001b[1;31mIndexError\u001b[0m: single positional indexer is out-of-bounds"
     ]
    }
   ],
   "source": [
    "%%capture\n",
    "\n",
    "fig, axs = plt.subplots(figsize=(m,n))\n",
    "axs.set_xticks([])\n",
    "axs.set_yticks([])\n",
    "patch = plt.imshow(all_grid.iloc[0][0], cmap=plt.cm.binary)\n",
    "def animate(i):\n",
    "  patch.set_data(all_grid.iloc[i][0])\n",
    "anim = animation.FuncAnimation(fig, animate, frames=len(all_grid))\n"
   ]
  }
 ],
 "metadata": {
  "interpreter": {
   "hash": "63fd5069d213b44bf678585dea6b12cceca9941eaf7f819626cde1f2670de90d"
  },
  "kernelspec": {
   "display_name": "Python 3.9.1 64-bit",
   "language": "python",
   "name": "python3"
  },
  "language_info": {
   "codemirror_mode": {
    "name": "ipython",
    "version": 3
   },
   "file_extension": ".py",
   "mimetype": "text/x-python",
   "name": "python",
   "nbconvert_exporter": "python",
   "pygments_lexer": "ipython3",
   "version": "3.8.8"
  },
  "orig_nbformat": 4
 },
 "nbformat": 4,
 "nbformat_minor": 2
}
